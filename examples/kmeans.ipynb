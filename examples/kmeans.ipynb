{
 "cells": [
  {
   "cell_type": "markdown",
   "metadata": {},
   "source": [
    "# K-means Example"
   ]
  },
  {
   "cell_type": "markdown",
   "metadata": {},
   "source": [
    "## Preliminaries"
   ]
  },
  {
   "cell_type": "code",
   "execution_count": 13,
   "metadata": {},
   "outputs": [
    {
     "name": "stdout",
     "output_type": "stream",
     "text": [
      "The autoreload extension is already loaded. To reload it, use:\n",
      "  %reload_ext autoreload\n"
     ]
    }
   ],
   "source": [
    "%matplotlib inline\n",
    "%load_ext autoreload\n",
    "%autoreload 2"
   ]
  },
  {
   "cell_type": "code",
   "execution_count": 3,
   "metadata": {},
   "outputs": [],
   "source": [
    "import matplotlib.pyplot as plt\n",
    "import numpy as np\n",
    "import random\n",
    "import sys\n",
    "\n",
    "sys.path.append(\"..\")\n",
    "\n",
    "import eskmeans.kmeans"
   ]
  },
  {
   "cell_type": "code",
   "execution_count": 5,
   "metadata": {},
   "outputs": [],
   "source": [
    "# Utility variables and functions\n",
    "colors = np.array([x for x in \"bgrcmykbgrcmykbgrcmykbgrcmyk\"])\n",
    "colors = np.hstack([colors] * 20)\n",
    "\n",
    "def plot_mixture_model(ax, model):\n",
    "    X = np.array(model.X)\n",
    "    ax.scatter(X[:, 0], X[:, 1], color=colors[model.assignments].tolist(), s=10)"
   ]
  },
  {
   "cell_type": "markdown",
   "metadata": {},
   "source": [
    "## Toy dataset"
   ]
  },
  {
   "cell_type": "code",
   "execution_count": 6,
   "metadata": {},
   "outputs": [],
   "source": [
    "random.seed(2)\n",
    "np.random.seed(2)\n",
    "\n",
    "# Data parameters\n",
    "D = 2           # dimensions\n",
    "N = 100         # number of points to generate\n",
    "K_true = 4      # the true number of components\n",
    "\n",
    "# Generate data\n",
    "mu_scale = 4.0\n",
    "covar_scale = 0.7\n",
    "z_true = np.random.randint(0, K_true, N)\n",
    "mu = np.random.randn(D, K_true)*mu_scale\n",
    "X = mu[:, z_true] + np.random.randn(D, N)*covar_scale\n",
    "X = X.T"
   ]
  },
  {
   "cell_type": "code",
   "execution_count": 7,
   "metadata": {},
   "outputs": [
    {
     "data": {
      "text/plain": [
       "<matplotlib.collections.PathCollection at 0x7f6173201e80>"
      ]
     },
     "execution_count": 7,
     "metadata": {},
     "output_type": "execute_result"
    },
    {
     "data": {
      "image/png": "[encoded data removed]",
      "text/plain": [
       "<Figure size 432x288 with 1 Axes>"
      ]
     },
     "metadata": {
      "needs_background": "light"
     },
     "output_type": "display_data"
    }
   ],
   "source": [
    "plt.scatter(X[:, 0], X[:, 1], color=\"gray\", s=10)"
   ]
  },
  {
   "cell_type": "markdown",
   "metadata": {},
   "source": [
    "## K-means clustering"
   ]
  },
  {
   "cell_type": "code",
   "execution_count": 9,
   "metadata": {},
   "outputs": [],
   "source": [
    "# Model parameters\n",
    "K = 4  # number of components\n",
    "n_iter = 20\n",
    "\n",
    "# Setup K-means model\n",
    "kmeans = eskmeans.kmeans.KMeans(X, K, \"spread\")"
   ]
  },
  {
   "cell_type": "code",
   "execution_count": 10,
   "metadata": {},
   "outputs": [
    {
     "name": "stdout",
     "output_type": "stream",
     "text": [
      "Iteration: 0, K: 4, n_mean_updates: 72, sample_time: 0.001987457275390625, sum_neg_sqrd_norm: -663.3436884121942\n",
      "Iteration: 1, K: 4, n_mean_updates: 17, sample_time: 0.0015041828155517578, sum_neg_sqrd_norm: -416.65372748046775\n",
      "Iteration: 2, K: 4, n_mean_updates: 16, sample_time: 0.0012204647064208984, sum_neg_sqrd_norm: -139.0792052156682\n",
      "Iteration: 3, K: 4, n_mean_updates: 6, sample_time: 0.0011582374572753906, sum_neg_sqrd_norm: -112.98777602463754\n",
      "Iteration: 4, K: 4, n_mean_updates: 2, sample_time: 0.001012563705444336, sum_neg_sqrd_norm: -108.3022381171297\n",
      "Iteration: 5, K: 4, n_mean_updates: 0, sample_time: 0.0010030269622802734, sum_neg_sqrd_norm: -108.3022381171297\n",
      "CPU times: user 10.2 ms, sys: 165 µs, total: 10.4 ms\n",
      "Wall time: 8.14 ms\n"
     ]
    }
   ],
   "source": [
    "# Inference\n",
    "%time record = kmeans.fit(n_iter)"
   ]
  },
  {
   "cell_type": "code",
   "execution_count": 14,
   "metadata": {},
   "outputs": [
    {
     "data": {
      "image/png": "[encoded data removed]",
      "text/plain": [
       "<Figure size 432x288 with 1 Axes>"
      ]
     },
     "metadata": {
      "needs_background": "light"
     },
     "output_type": "display_data"
    }
   ],
   "source": [
    "# Plot clusters\n",
    "fig = plt.figure()\n",
    "ax = fig.add_subplot(111)\n",
    "plot_mixture_model(ax, kmeans)"
   ]
  },
  {
   "cell_type": "code",
   "execution_count": null,
   "metadata": {},
   "outputs": [],
   "source": []
  }
 ],
 "metadata": {
  "kernelspec": {
   "display_name": "Python 3",
   "language": "python",
   "name": "python3"
  },
  "language_info": {
   "codemirror_mode": {
    "name": "ipython",
    "version": 3
   },
   "file_extension": ".py",
   "mimetype": "text/x-python",
   "name": "python",
   "nbconvert_exporter": "python",
   "pygments_lexer": "ipython3",
   "version": "3.8.6"
  }
 },
 "nbformat": 4,
 "nbformat_minor": 1
}
