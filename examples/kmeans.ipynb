{
 "cells": [
  {
   "cell_type": "markdown",
   "metadata": {},
   "source": [
    "# K-means Example"
   ]
  },
  {
   "cell_type": "markdown",
   "metadata": {},
   "source": [
    "## Preliminary"
   ]
  },
  {
   "cell_type": "code",
   "execution_count": 34,
   "metadata": {
    "collapsed": false
   },
   "outputs": [
    {
     "name": "stdout",
     "output_type": "stream",
     "text": [
      "The autoreload extension is already loaded. To reload it, use:\n",
      "  %reload_ext autoreload\n"
     ]
    }
   ],
   "source": [
    "%matplotlib inline\n",
    "%load_ext autoreload\n",
    "%autoreload 2"
   ]
  },
  {
   "cell_type": "code",
   "execution_count": 35,
   "metadata": {
    "collapsed": true
   },
   "outputs": [],
   "source": [
    "import matplotlib.pyplot as plt\n",
    "import numpy as np\n",
    "import random\n",
    "import sys\n",
    "\n",
    "sys.path.append(\"..\")\n",
    "\n",
    "import eskmeans.kmeans"
   ]
  },
  {
   "cell_type": "code",
   "execution_count": 36,
   "metadata": {
    "collapsed": true
   },
   "outputs": [],
   "source": [
    "# Utility variables and functions\n",
    "\n",
    "colors = np.array([x for x in \"bgrcmykbgrcmykbgrcmykbgrcmyk\"])\n",
    "colors = np.hstack([colors] * 20)\n",
    "\n",
    "def plot_mixture_model(ax, model):\n",
    "    X = np.array(model.X)\n",
    "    ax.scatter(X[:, 0], X[:, 1], color=colors[model.assignments].tolist(), s=10)"
   ]
  },
  {
   "cell_type": "markdown",
   "metadata": {},
   "source": [
    "## Toy dataset"
   ]
  },
  {
   "cell_type": "code",
   "execution_count": 37,
   "metadata": {
    "collapsed": true
   },
   "outputs": [],
   "source": [
    "random.seed(2)\n",
    "np.random.seed(2)\n",
    "\n",
    "# Data parameters\n",
    "D = 2           # dimensions\n",
    "N = 100         # number of points to generate\n",
    "K_true = 4      # the true number of components\n",
    "\n",
    "# Generate data\n",
    "mu_scale = 4.0\n",
    "covar_scale = 0.7\n",
    "z_true = np.random.randint(0, K_true, N)\n",
    "mu = np.random.randn(D, K_true)*mu_scale\n",
    "X = mu[:, z_true] + np.random.randn(D, N)*covar_scale\n",
    "X = X.T"
   ]
  },
  {
   "cell_type": "code",
   "execution_count": 38,
   "metadata": {
    "collapsed": false
   },
   "outputs": [
    {
     "data": {
      "text/plain": [
       "<matplotlib.collections.PathCollection at 0x5d2ea10>"
      ]
     },
     "execution_count": 38,
     "metadata": {},
     "output_type": "execute_result"
    },
    {
     "data": {
      "image/png": "[encoded data removed]",
      "text/plain": [
       "<matplotlib.figure.Figure at 0x5488a50>"
      ]
     },
     "metadata": {},
     "output_type": "display_data"
    }
   ],
   "source": [
    "plt.scatter(X[:, 0], X[:, 1], color=\"gray\", s=10)"
   ]
  },
  {
   "cell_type": "markdown",
   "metadata": {},
   "source": [
    "## K-means clustering"
   ]
  },
  {
   "cell_type": "code",
   "execution_count": 64,
   "metadata": {
    "collapsed": true
   },
   "outputs": [],
   "source": [
    "# Model parameters\n",
    "K = 4 # number of components\n",
    "n_iter = 20\n",
    "\n",
    "# Setup k-means model\n",
    "kmeans = eskmeans.kmeans.KMeans(X, K, \"spread\")"
   ]
  },
  {
   "cell_type": "code",
   "execution_count": 65,
   "metadata": {
    "collapsed": false
   },
   "outputs": [
    {
     "name": "stdout",
     "output_type": "stream",
     "text": [
      "Iteration: 0, K: 4, n_mean_updates: 59, sample_time: 0.00274610519409, sum_neg_sqrd_norm: -209.026209201\n",
      "Iteration: 1, K: 4, n_mean_updates: 10, sample_time: 0.00128412246704, sum_neg_sqrd_norm: -133.688881636\n",
      "Iteration: 2, K: 4, n_mean_updates: 6, sample_time: 0.00156092643738, sum_neg_sqrd_norm: -109.921387903\n",
      "Iteration: 3, K: 4, n_mean_updates: 1, sample_time: 0.00108098983765, sum_neg_sqrd_norm: -108.302238117\n",
      "Iteration: 4, K: 4, n_mean_updates: 0, sample_time: 0.000996112823486, sum_neg_sqrd_norm: -108.302238117\n",
      "CPU times: user 8.33 ms, sys: 138 µs, total: 8.47 ms\n",
      "Wall time: 7.74 ms\n"
     ]
    }
   ],
   "source": [
    "# Inference\n",
    "%time record = kmeans.fit(n_iter)"
   ]
  },
  {
   "cell_type": "code",
   "execution_count": 66,
   "metadata": {
    "collapsed": false
   },
   "outputs": [
    {
     "data": {
      "image/png": "[encoded data removed]",
      "text/plain": [
       "<matplotlib.figure.Figure at 0x5b6f4d0>"
      ]
     },
     "metadata": {},
     "output_type": "display_data"
    }
   ],
   "source": [
    "# Plot clusters\n",
    "fig = plt.figure()\n",
    "ax = fig.add_subplot(111)\n",
    "plot_mixture_model(ax, kmeans)"
   ]
  }
 ],
 "metadata": {
  "kernelspec": {
   "display_name": "Python 2",
   "language": "python",
   "name": "python2"
  },
  "language_info": {
   "codemirror_mode": {
    "name": "ipython",
    "version": 2
   },
   "file_extension": ".py",
   "mimetype": "text/x-python",
   "name": "python",
   "nbconvert_exporter": "python",
   "pygments_lexer": "ipython2",
   "version": "2.7.5"
  }
 },
 "nbformat": 4,
 "nbformat_minor": 1
}
